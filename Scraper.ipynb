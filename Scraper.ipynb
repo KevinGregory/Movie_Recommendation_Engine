{
 "cells": [
  {
   "cell_type": "code",
   "execution_count": null,
   "metadata": {},
   "outputs": [],
   "source": [
    "import requests\n",
    "from bs4 import BeautifulSoup\n",
    "import re\n",
    "import pandas as pd\n",
    "from selenium import webdriver \n",
    "import time\n",
    "import pickle\n",
    "import random\n",
    "from requests.adapters import HTTPAdapter\n",
    "from requests.packages.urllib3.util.retry import Retry\n",
    "import warnings\n",
    "warnings.filterwarnings('ignore')"
   ]
  },
  {
   "cell_type": "code",
   "execution_count": null,
   "metadata": {},
   "outputs": [],
   "source": [
    "all_links = pd.read_csv('Title IMDBID Links.csv')\n",
    "all_imdb_ids = all_links.imdb_id\n",
    "all_imdb_ids = all_links.imdb_id"
   ]
  },
  {
   "cell_type": "code",
   "execution_count": null,
   "metadata": {
    "scrolled": true
   },
   "outputs": [],
   "source": [
    "headers = {\n",
    "    'user-agent': \"Mozilla/5.0 (Windows NT 10.0; Win64; x64) AppleWebKit/537.36 (KHTML, like Gecko) Chrome/81.0.4044.138 Safari/537.36\",\n",
    "}\n",
    "\n",
    "\n",
    "review_dict = {}\n",
    "for i in range(0, len(all_links)):\n",
    "    #create url\n",
    "    url = 'https://www.imdb.com/title/'+str(all_links.imdb_id[i])+'/reviews?ref_=url = tt_urv'\n",
    "    \n",
    "\n",
    "    #get reviews\n",
    "    try:\n",
    "        response = requests.request(\"GET\", url, headers=headers, verify=False)\n",
    "        soup = BeautifulSoup(response.content, 'html5lib')\n",
    "        reviews = (str(soup.find_all('div',{'class':'text show-more__control'})).split('<div class=\"text show-more__control\">'))    \n",
    "    except:\n",
    "        print(f'No review found for {all_links.title[i]}.')\n",
    "        \n",
    "    #create word salad\n",
    "    word_salad = ''\n",
    "    for element in reviews:\n",
    "        word_salad+=str(element)\n",
    "        word_salad = word_salad.replace('</div>','').replace('<br/>','').replace('\\\\','').replace(\"'\",'').replace('[','')\\\n",
    "        .replace(']','')\n",
    "\n",
    "    #tie salad to title\n",
    "    review_dict[all_links.title[i]] = word_salad\n",
    "    \n",
    "    #sleep for goodness sake\n",
    "    time.sleep(random.uniform(1,2))\n",
    "    \n",
    "    print(i)"
   ]
  },
  {
   "cell_type": "code",
   "execution_count": null,
   "metadata": {},
   "outputs": [],
   "source": [
    "with open('full_review_dict.pickle.pickle','wb') as handle:\n",
    "    pickle.dump(review_dict, handle, protocol = pickle.HIGHEST_PROTOCOL)"
   ]
  }
 ],
 "metadata": {
  "kernelspec": {
   "display_name": "Python 3",
   "language": "python",
   "name": "python3"
  },
  "language_info": {
   "codemirror_mode": {
    "name": "ipython",
    "version": 3
   },
   "file_extension": ".py",
   "mimetype": "text/x-python",
   "name": "python",
   "nbconvert_exporter": "python",
   "pygments_lexer": "ipython3",
   "version": "3.8.5"
  }
 },
 "nbformat": 4,
 "nbformat_minor": 4
}
